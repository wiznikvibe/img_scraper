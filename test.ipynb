{
 "cells": [
  {
   "cell_type": "code",
   "execution_count": 1,
   "metadata": {},
   "outputs": [],
   "source": [
    "# Required Packages \n",
    "import requests\n",
    "import logging \n",
    "import os\n",
    "from bs4 import BeautifulSoup\n",
    "from urllib.request import urlopen "
   ]
  },
  {
   "cell_type": "markdown",
   "metadata": {},
   "source": [
    "Sample Data = \"https://www.google.com/search?q=ronoroa+zoro&tbm=isch&ved=2ahUKEwiNkKj3y7WAAxVE_DgGHcCQA2AQ2-cCegQIABAA&oq=ronoroa+&gs_lcp=CgNpbWcQARgAMgcIABCKBRBDMgUIABCABDIFCAAQgAQyBQgAEIAEMgcIABCKBRBDMgUIABCABDIFCAAQgAQyBAgAEB4yBggAEAUQHjIJCAAQGBCABBAKOgQIIxAnOg0IABCKBRCxAxCDARBDOggIABCABBCxAzoKCAAQigUQsQMQQ1D1CFiHFGC-HWgAcAB4AIABowGIAcIIkgEDMC45mAEAoAEBqgELZ3dzLXdpei1pbWfAAQE&sclient=img&ei=7ebFZM3lEMT44-EPwKGOgAY&bih=718&biw=1536\""
   ]
  },
  {
   "cell_type": "code",
   "execution_count": 2,
   "metadata": {},
   "outputs": [],
   "source": [
    "# Creating new folder inside the directory\n",
    "save_dirs = \"images/\"\n",
    "if not os.path.exists(save_dirs):\n",
    "    os.makedirs(save_dirs)"
   ]
  },
  {
   "cell_type": "code",
   "execution_count": 4,
   "metadata": {},
   "outputs": [
    {
     "name": "stdout",
     "output_type": "stream",
     "text": [
      "3RfTsmlZz7ncmxpt\n"
     ]
    }
   ],
   "source": [
    "from configparser import ConfigParser\n",
    "config = ConfigParser()\n",
    "config.read('config.ini')\n",
    "key = config['USER']['KEY']\n",
    "print(key)"
   ]
  },
  {
   "cell_type": "code",
   "execution_count": 3,
   "metadata": {},
   "outputs": [
    {
     "data": {
      "text/plain": [
       "200"
      ]
     },
     "execution_count": 3,
     "metadata": {},
     "output_type": "execute_result"
    }
   ],
   "source": [
    "# Query for which the images are to be scraped\n",
    "query = \"post timeskip ronoroa zoro\"\n",
    "response = requests.get(f\"https://www.google.com/search?q={query}&tbm=isch&ved=2ahUKEwiNkKj3y7WAAxVE_DgGHcCQA2AQ2-cCegQIABAA&oq=ronoroa+&gs_lcp=CgNpbWcQARgAMgcIABCKBRBDMgUIABCABDIFCAAQgAQyBQgAEIAEMgcIABCKBRBDMgUIABCABDIFCAAQgAQyBAgAEB4yBggAEAUQHjIJCAAQGBCABBAKOgQIIxAnOg0IABCKBRCxAxCDARBDOggIABCABBCxAzoKCAAQigUQsQMQQ1D1CFiHFGC-HWgAcAB4AIABowGIAcIIkgEDMC45mAEAoAEBqgELZ3dzLXdpei1pbWfAAQE&sclient=img&ei=7ebFZM3lEMT44-EPwKGOgAY&bih=718&biw=1536\")\n",
    "response.status_code"
   ]
  },
  {
   "cell_type": "code",
   "execution_count": 4,
   "metadata": {},
   "outputs": [],
   "source": [
    "# Storing the response content \n",
    "content = BeautifulSoup(response.content, \"html.parser\")"
   ]
  },
  {
   "cell_type": "code",
   "execution_count": 5,
   "metadata": {},
   "outputs": [],
   "source": [
    "# Collecting all the image tags from HTML format \n",
    "image_tags = content.findAll(\"img\")"
   ]
  },
  {
   "cell_type": "code",
   "execution_count": 6,
   "metadata": {},
   "outputs": [
    {
     "data": {
      "text/plain": [
       "<img alt=\"Google\" class=\"kgJEQe\" src=\"/images/branding/searchlogo/1x/googlelogo_desk_heirloom_color_150x55dp.gif\"/>"
      ]
     },
     "execution_count": 6,
     "metadata": {},
     "output_type": "execute_result"
    }
   ],
   "source": [
    "image_tags.pop(0)"
   ]
  },
  {
   "cell_type": "code",
   "execution_count": 7,
   "metadata": {},
   "outputs": [
    {
     "data": {
      "text/plain": [
       "20"
      ]
     },
     "execution_count": 7,
     "metadata": {},
     "output_type": "execute_result"
    }
   ],
   "source": [
    "len(image_tags)"
   ]
  },
  {
   "cell_type": "code",
   "execution_count": 8,
   "metadata": {},
   "outputs": [
    {
     "name": "stdout",
     "output_type": "stream",
     "text": [
      "https://encrypted-tbn0.gstatic.com/images?q=tbn:ANd9GcR9KmXkm4AHeOOvq0LxFUJyRDDmTeI46Rrh1byOJ71EFrTZ-Q_3CFamQVyOAko&s\n",
      "https://encrypted-tbn0.gstatic.com/images?q=tbn:ANd9GcRFcmnkCwDPCfV_EYnmTbW0Wfj7J_vSnKrq8eyGKUI_JhQZjpECVgGC1JteXA&s\n",
      "https://encrypted-tbn0.gstatic.com/images?q=tbn:ANd9GcS7avRjszYR-aRl4dtLOHD8BFlNy2iWxV-ryxMNZt06rgWhbzyqndI6QlvSSmk&s\n",
      "https://encrypted-tbn0.gstatic.com/images?q=tbn:ANd9GcTpTDk6Qu399rfl8VKXh0qZBjRiBV5BWQoO5vlEKC3saSozDLnWf_XMF7SEL0s&s\n",
      "https://encrypted-tbn0.gstatic.com/images?q=tbn:ANd9GcS5vrPj-F_dgADnToH0DvaWjEjQUMEOFygPZgvmmdyhqH2yigazrr7dTL45Ng&s\n",
      "https://encrypted-tbn0.gstatic.com/images?q=tbn:ANd9GcR8qYX12XmLXySf7xBTtzXN_rvCg9aqZpRXHldqCjU69ZWt2K--6yDtJHYFmA&s\n",
      "https://encrypted-tbn0.gstatic.com/images?q=tbn:ANd9GcQ46-V8hfJjT5n2KSp0j3pjI3TQzJ6kJPhgeuS4TBqbc6lKBhpCSGLdYJZchA&s\n",
      "https://encrypted-tbn0.gstatic.com/images?q=tbn:ANd9GcTkCtzVA7H2zs4BjKkXt49z0O-62qZCMnbANK5QIMyWTkx9sLc42sFSjCfTq5o&s\n",
      "https://encrypted-tbn0.gstatic.com/images?q=tbn:ANd9GcSZAifwD_VhHeJX77gz3IEU4CgmzfxSrRfxMzE3YpelbTiZlyNDx7uV1qes4Zc&s\n",
      "https://encrypted-tbn0.gstatic.com/images?q=tbn:ANd9GcR7pSP2YRAaJroaKrYpSK0v69NiZ4g3VVQ7uz_jjEW6Am08bTj05FA1F6ZiQGY&s\n",
      "https://encrypted-tbn0.gstatic.com/images?q=tbn:ANd9GcT3iMAWMZi4Rn1J9-0GxMl3xfIYNowIbrjAqAgmcRFQZzbDTbgIXRJymo6sZVU&s\n",
      "https://encrypted-tbn0.gstatic.com/images?q=tbn:ANd9GcSoSN90Mgnq3gXSD3hWfL9Un-POYl_JG_7bVpIFfpMWQRB_8Jhpj9PU1RyuYN4&s\n",
      "https://encrypted-tbn0.gstatic.com/images?q=tbn:ANd9GcSWE9_7wYUKK3IYoOVYr_y2ioZLAH-iqQ5vAItkipbdHyGhW3hSO6PASBv-jf8&s\n",
      "https://encrypted-tbn0.gstatic.com/images?q=tbn:ANd9GcQYKMmLlsMz1C1XVepK4k6httsj87QwdB-ABoSIhMPQOmVI6F-5At4jTYBICw&s\n",
      "https://encrypted-tbn0.gstatic.com/images?q=tbn:ANd9GcTrlXwov37T4u07TdrXTwqI9PlfaEK1tNvXE5klIgPsfQ2MHp2qHWIUMDwtl5s&s\n",
      "https://encrypted-tbn0.gstatic.com/images?q=tbn:ANd9GcSSV2RvSe00O7hCby9lfvXLTr3Cv6QWb1knuDBio7FaP14GI3GNiCT55RNFtA&s\n",
      "https://encrypted-tbn0.gstatic.com/images?q=tbn:ANd9GcSlJtO9VND-m9G8lpAwNN0K5O5itLjiy64WbDsDKjt-YWB-lqpotNbYxX3Img&s\n",
      "https://encrypted-tbn0.gstatic.com/images?q=tbn:ANd9GcQqqBZHE0rmnPcCFKHIQ3z6uhWr7l6UeWP-wM7tw_01AyewIvxpEwhUpH83xDE&s\n",
      "https://encrypted-tbn0.gstatic.com/images?q=tbn:ANd9GcSSe7gzo_yHkv0NMEbxs98S3nLI6QR5ZgOoeTmHU7k67eMR4_Je3fLRg-djN6A&s\n",
      "https://encrypted-tbn0.gstatic.com/images?q=tbn:ANd9GcTS_miF_el6BJ1ZGNYOhHBGntsEnb6mnw9NeNI5uKJq5jYiav-exvMAPCXLPv4&s\n"
     ]
    }
   ],
   "source": [
    "for i in image_tags:\n",
    "    print(i['src'])"
   ]
  },
  {
   "cell_type": "code",
   "execution_count": null,
   "metadata": {},
   "outputs": [],
   "source": [
    "for i in image_tags:\n",
    "    img_url = i['src']\n",
    "    image_data = requests.get(img_url).content\n",
    "    with open(os.path.join(save_dirs,f\"{query}_{image_tags.index(i)}.jpg\"),\"wb\") as f:\n",
    "        f.write(image_data)"
   ]
  },
  {
   "cell_type": "code",
   "execution_count": null,
   "metadata": {},
   "outputs": [],
   "source": []
  }
 ],
 "metadata": {
  "kernelspec": {
   "display_name": "Python 3",
   "language": "python",
   "name": "python3"
  },
  "language_info": {
   "codemirror_mode": {
    "name": "ipython",
    "version": 3
   },
   "file_extension": ".py",
   "mimetype": "text/x-python",
   "name": "python",
   "nbconvert_exporter": "python",
   "pygments_lexer": "ipython3",
   "version": "3.8.17"
  },
  "orig_nbformat": 4
 },
 "nbformat": 4,
 "nbformat_minor": 2
}
