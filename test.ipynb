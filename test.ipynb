{
 "cells": [
  {
   "cell_type": "code",
   "execution_count": 1,
   "metadata": {},
   "outputs": [],
   "source": [
    "# Required Packages \n",
    "import requests\n",
    "import logging \n",
    "import os\n",
    "from bs4 import BeautifulSoup\n",
    "from urllib.request import urlopen "
   ]
  },
  {
   "cell_type": "markdown",
   "metadata": {},
   "source": [
    "Sample Data = \"https://www.google.com/search?q=ronoroa+zoro&tbm=isch&ved=2ahUKEwiNkKj3y7WAAxVE_DgGHcCQA2AQ2-cCegQIABAA&oq=ronoroa+&gs_lcp=CgNpbWcQARgAMgcIABCKBRBDMgUIABCABDIFCAAQgAQyBQgAEIAEMgcIABCKBRBDMgUIABCABDIFCAAQgAQyBAgAEB4yBggAEAUQHjIJCAAQGBCABBAKOgQIIxAnOg0IABCKBRCxAxCDARBDOggIABCABBCxAzoKCAAQigUQsQMQQ1D1CFiHFGC-HWgAcAB4AIABowGIAcIIkgEDMC45mAEAoAEBqgELZ3dzLXdpei1pbWfAAQE&sclient=img&ei=7ebFZM3lEMT44-EPwKGOgAY&bih=718&biw=1536\""
   ]
  },
  {
   "cell_type": "code",
   "execution_count": 2,
   "metadata": {},
   "outputs": [],
   "source": [
    "# Creating new folder inside the directory\n",
    "save_dirs = \"images/\"\n",
    "if not os.path.exists(save_dirs):\n",
    "    os.makedirs(save_dirs)"
   ]
  },
  {
   "cell_type": "code",
   "execution_count": 5,
   "metadata": {},
   "outputs": [
    {
     "data": {
      "text/plain": [
       "200"
      ]
     },
     "execution_count": 5,
     "metadata": {},
     "output_type": "execute_result"
    }
   ],
   "source": [
    "# Query for which the images are to be scraped\n",
    "query = \"ronoroa zoro\"\n",
    "response = requests.get(f\"https://www.google.com/search?q={query}&tbm=isch&ved=2ahUKEwiNkKj3y7WAAxVE_DgGHcCQA2AQ2-cCegQIABAA&oq=ronoroa+&gs_lcp=CgNpbWcQARgAMgcIABCKBRBDMgUIABCABDIFCAAQgAQyBQgAEIAEMgcIABCKBRBDMgUIABCABDIFCAAQgAQyBAgAEB4yBggAEAUQHjIJCAAQGBCABBAKOgQIIxAnOg0IABCKBRCxAxCDARBDOggIABCABBCxAzoKCAAQigUQsQMQQ1D1CFiHFGC-HWgAcAB4AIABowGIAcIIkgEDMC45mAEAoAEBqgELZ3dzLXdpei1pbWfAAQE&sclient=img&ei=7ebFZM3lEMT44-EPwKGOgAY&bih=718&biw=1536\")\n",
    "response.status_code"
   ]
  },
  {
   "cell_type": "code",
   "execution_count": 8,
   "metadata": {},
   "outputs": [],
   "source": [
    "# Storing the response content \n",
    "content = BeautifulSoup(response.content, \"html.parser\")"
   ]
  },
  {
   "cell_type": "code",
   "execution_count": 11,
   "metadata": {},
   "outputs": [],
   "source": [
    "# Collecting all the image tags from HTML format \n",
    "image_tags = content.findAll(\"img\")"
   ]
  },
  {
   "cell_type": "code",
   "execution_count": 12,
   "metadata": {},
   "outputs": [
    {
     "data": {
      "text/plain": [
       "<img alt=\"Google\" class=\"kgJEQe\" src=\"/images/branding/searchlogo/1x/googlelogo_desk_heirloom_color_150x55dp.gif\"/>"
      ]
     },
     "execution_count": 12,
     "metadata": {},
     "output_type": "execute_result"
    }
   ],
   "source": [
    "image_tags.pop(0)"
   ]
  },
  {
   "cell_type": "code",
   "execution_count": 15,
   "metadata": {},
   "outputs": [
    {
     "data": {
      "text/plain": [
       "20"
      ]
     },
     "execution_count": 15,
     "metadata": {},
     "output_type": "execute_result"
    }
   ],
   "source": [
    "len(image_tags)"
   ]
  },
  {
   "cell_type": "code",
   "execution_count": 14,
   "metadata": {},
   "outputs": [
    {
     "name": "stdout",
     "output_type": "stream",
     "text": [
      "https://encrypted-tbn0.gstatic.com/images?q=tbn:ANd9GcQYKMmLlsMz1C1XVepK4k6httsj87QwdB-ABoSIhMPQOmVI6F-5At4jTYBICw&s\n",
      "https://encrypted-tbn0.gstatic.com/images?q=tbn:ANd9GcQiXhFzuArJilaHGV4SvLMrF5a8V7CdQnTu3AfyUW6k5sD4EWilX5hQ0gUYSQ&s\n",
      "https://encrypted-tbn0.gstatic.com/images?q=tbn:ANd9GcS5vrPj-F_dgADnToH0DvaWjEjQUMEOFygPZgvmmdyhqH2yigazrr7dTL45Ng&s\n",
      "https://encrypted-tbn0.gstatic.com/images?q=tbn:ANd9GcSo66BNhgnrmTVd1qhqS6EbZp3WXLvLixuEryC54qREU6ZYpJhY7Uw692MKE9w&s\n",
      "https://encrypted-tbn0.gstatic.com/images?q=tbn:ANd9GcT5g8QxCjItOWJXQ2l79ikTGkcowrRBgsNDSIn4hnlxxeJFtCmDqksaDYryP7Y&s\n",
      "https://encrypted-tbn0.gstatic.com/images?q=tbn:ANd9GcRJq0HNmSRoY3te8rTwUyMlI31Efme9P-MBHaRilqhFHY5rp2eIDyvwLyG5Ww&s\n",
      "https://encrypted-tbn0.gstatic.com/images?q=tbn:ANd9GcQ1gq0EmljPWGUuNDh4tkyhQnueKxI3KqU19VLsfYzCuKBERO_aqFJBc3GPUg&s\n",
      "https://encrypted-tbn0.gstatic.com/images?q=tbn:ANd9GcTxoOMEDbfTbT6Xjd1So0HOy9e9JeMP9AH9FiTTBe4BbqIMw_IK4ufnISFzNA&s\n",
      "https://encrypted-tbn0.gstatic.com/images?q=tbn:ANd9GcRH44TbQyZ26DmDoYV22iNEW9js5rl4VqdB7E19cOgiKxrnY2Y9ra3KrnLTWgc&s\n",
      "https://encrypted-tbn0.gstatic.com/images?q=tbn:ANd9GcR9KmXkm4AHeOOvq0LxFUJyRDDmTeI46Rrh1byOJ71EFrTZ-Q_3CFamQVyOAko&s\n",
      "https://encrypted-tbn0.gstatic.com/images?q=tbn:ANd9GcTldUKV-iSIs1pT0F8ps3ebwe6jRpp4aR9leLMAlsiXmOFciGhwECMQJGqx-A&s\n",
      "https://encrypted-tbn0.gstatic.com/images?q=tbn:ANd9GcRb814gKWAP5fsFpBU7FlOBpWh6x8N9EydVos4zVKWz9JVcFq5nVLDef6kN7Ko&s\n",
      "https://encrypted-tbn0.gstatic.com/images?q=tbn:ANd9GcRIWCHmljMUqPGj9nLZFfejrC4f8bNYJOXdVKa_X0DU6z6YDCfqB45YcvrLcQ&s\n",
      "https://encrypted-tbn0.gstatic.com/images?q=tbn:ANd9GcQ9uMmVLnxB_9qRq79YyLjhavG8W_A-POIe5uxGHbxCe0dExDldZAq1PVL2hA&s\n",
      "https://encrypted-tbn0.gstatic.com/images?q=tbn:ANd9GcQQuGdXttKNyTxweDWZp7uuMGTOdfFdspJ2OjsCbC-C76erNVHKEmyzZBk0Cy4&s\n",
      "https://encrypted-tbn0.gstatic.com/images?q=tbn:ANd9GcR6T-Dnolgj4rQK7oas1KhuxUC3VynleGmAiBSjubbuxl70rqkiUMKXreUzAyY&s\n",
      "https://encrypted-tbn0.gstatic.com/images?q=tbn:ANd9GcRamjmjMtMuc4QOyt3Fwa90YZlRlOIjQ03KzHY029Xb-sM4b7HddccdBQcxC2U&s\n",
      "https://encrypted-tbn0.gstatic.com/images?q=tbn:ANd9GcROLtqtexti5b7fFc3DI5Tu2sjK8qXGtR9UMF8Nzpp7NooeDqeEclqBmYf46Q&s\n",
      "https://encrypted-tbn0.gstatic.com/images?q=tbn:ANd9GcQgxvOXHtZPD7V-5-8LX_eooLKSnjtBMxRHHBW4KgaVzkHjLkOk9Ixk43ftoA&s\n",
      "https://encrypted-tbn0.gstatic.com/images?q=tbn:ANd9GcS3A2xQMob0NJIdhwr9RjqYiVmi6YjUjQD5UuLCC9ftl0i4EQ9LfHA_y7DkES0&s\n"
     ]
    }
   ],
   "source": [
    "for i in image_tags:\n",
    "    print(i['src'])"
   ]
  },
  {
   "cell_type": "code",
   "execution_count": 16,
   "metadata": {},
   "outputs": [],
   "source": [
    "for i in image_tags:\n",
    "    img_url = i['src']\n",
    "    image_data = requests.get(img_url).content\n",
    "    with open(os.path.join(save_dirs,f\"{query}_{image_tags.index(i)}.jpg\"),\"wb\") as f:\n",
    "        f.write(image_data)"
   ]
  },
  {
   "cell_type": "code",
   "execution_count": null,
   "metadata": {},
   "outputs": [],
   "source": []
  }
 ],
 "metadata": {
  "kernelspec": {
   "display_name": "Python 3",
   "language": "python",
   "name": "python3"
  },
  "language_info": {
   "codemirror_mode": {
    "name": "ipython",
    "version": 3
   },
   "file_extension": ".py",
   "mimetype": "text/x-python",
   "name": "python",
   "nbconvert_exporter": "python",
   "pygments_lexer": "ipython3",
   "version": "3.8.17"
  },
  "orig_nbformat": 4
 },
 "nbformat": 4,
 "nbformat_minor": 2
}
